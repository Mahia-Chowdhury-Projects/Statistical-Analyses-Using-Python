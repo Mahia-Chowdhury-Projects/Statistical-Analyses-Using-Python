{
 "cells": [
  {
   "cell_type": "code",
   "execution_count": 147,
   "id": "0c8a8e5d",
   "metadata": {
    "deletable": false,
    "editable": false
   },
   "outputs": [],
   "source": [
    "# Initialize Otter\n",
    "import otter\n",
    "grader = otter.Notebook(\"project2.ipynb\")"
   ]
  },
  {
   "cell_type": "markdown",
   "id": "831e1f0a",
   "metadata": {
    "deletable": false,
    "editable": false,
    "tags": []
   },
   "source": [
    "# Final Project"
   ]
  },
  {
   "cell_type": "markdown",
   "id": "b5d3e603",
   "metadata": {
    "deletable": false,
    "editable": false,
    "tags": []
   },
   "source": [
    "Please see the [Final Project Description](https://www.cs.williams.edu/~cs104/docs/project2.html) for instructions and deadlines.\n",
    "\n",
    "All work should appear in this notebook.  We've created some cells for you, but you may add as many additional cells as you like to each part.  Just click the `+` sign in this tab's toolbar to insert a new cell.  Then select \"Markdown\" from the toolbar's popup menu if you want the new cell to be for text, or \"Code\" if you want it to be for Python code.  Markdown cells can include basic formatting and are easily identified because they do not have the brackets `[ ]` in the left margin.  Click on any of our formatted text cells to see how to create lists, bold text, etc., or have a look [here](https://www.markdownguide.org/basic-syntax).\n"
   ]
  },
  {
   "cell_type": "code",
   "execution_count": 148,
   "id": "8bc43ca9",
   "metadata": {
    "deletable": false,
    "editable": false,
    "tags": []
   },
   "outputs": [],
   "source": [
    "# Run this cell to set up the notebook.\n",
    "\n",
    "# These lines import the Numpy and Datascience modules.\n",
    "import numpy as np\n",
    "from datascience import *\n",
    "\n",
    "# These lines make plots look nice and hide some messy Python warnings.\n",
    "import matplotlib\n",
    "%matplotlib inline\n",
    "import matplotlib.pyplot as plt\n",
    "plt.style.use('fivethirtyeight')\n",
    "import warnings\n",
    "warnings.simplefilter('ignore', FutureWarning)\n",
    "warnings.simplefilter('ignore', np.VisibleDeprecationWarning)\n",
    "\n",
    "# For interactive visualizations\n",
    "from ipywidgets import interact, interactive, fixed, interact_manual\n",
    "import ipywidgets as widgets\n",
    "\n",
    "# Import our table cleaning functions\n",
    "from table_cleaner import * "
   ]
  },
  {
   "cell_type": "code",
   "execution_count": 149,
   "id": "e69153db-9fbe-44e4-916a-3619625e38ca",
   "metadata": {},
   "outputs": [],
   "source": [
    "#import functions for correlation coefficent\n",
    "from cs104_inference import *"
   ]
  },
  {
   "cell_type": "markdown",
   "id": "1660eb76",
   "metadata": {
    "deletable": false,
    "editable": false,
    "tags": []
   },
   "source": [
    "## 0. Source of data\n"
   ]
  },
  {
   "cell_type": "markdown",
   "id": "78fcc980-0bf0-4c84-b751-cc03ab5df044",
   "metadata": {},
   "source": [
    "This dataset includes the human development index of every country from 1990 to 2021. Addtionally, the columns contain other data values that may be factors related to a country's human development index such as \"Gender Inequality Index\" and \"Mean Years of Schooling - Female,\" also from the years 1990 to 2021.\n",
    "According to the World Health Organization, the human development index (HDI) of a country is essentially a composite measure of a country's average achievements in the 3 basic areas of human development: health, knowledge, and standards of living (WHO, 2022). The index ranges from 0 to 1, with 0 being the lowest possible index to 1 being the highest. This is not accounted for in any of the columns of this data set, but it is also important to note that there are 4 tiers for the HDI: 0.8-1.0 (very high human development),0.7 -0.79 (high human development), 0.55-.7 (medium human development), and below 0.55 (low human development).  \n",
    "According to Human Development reports, the gender inequality index (GII) of a country is essentially a composite measure of a country's gender inequality utilizing 3 dimensions: reproductive health, empowerment, and the labour market. It ranges from 0, where there is equality between men and women, to one, where one gender receives the utmost possible inequality in all measured dimensions. \n",
    "\n",
    "Data website: https://www.kaggle.com/datasets/iamsouravbanerjee/human-development-index-dataset\n",
    "\n",
    "Sources for defintions: \n",
    "https://www.who.int/data/nutrition/nlis/info/human-development-index\n",
    "https://hdr.undp.org/data-center/thematic-composite-indices/gender-inequality-index#/indicies/GII\n"
   ]
  },
  {
   "cell_type": "markdown",
   "id": "4205324f",
   "metadata": {
    "deletable": false,
    "editable": false,
    "tags": []
   },
   "source": [
    "## 1. Quantitative questions\n"
   ]
  },
  {
   "cell_type": "markdown",
   "id": "67908c6c",
   "metadata": {
    "deletable": false,
    "editable": false
   },
   "source": [
    "**Quantiative question 1:** "
   ]
  },
  {
   "cell_type": "markdown",
   "id": "feb6bc1d-37b4-492b-83cf-3334b4107550",
   "metadata": {},
   "source": [
    "What is the correlation coefficient between the human development index of every country in 2021 and the gender inequality index of every country in 2021? "
   ]
  },
  {
   "cell_type": "markdown",
   "id": "d5488e2e",
   "metadata": {
    "deletable": false,
    "editable": false
   },
   "source": [
    "**Quantitative question 2:** "
   ]
  },
  {
   "cell_type": "markdown",
   "id": "c9d47dcb-d55e-439a-afb5-7ffe5acadd79",
   "metadata": {},
   "source": [
    "Does the change in mean years of female schooling across the years 1990 and 2021 show any varainces in the change in human development index from 1990 and 2021 for countries that have a large change in means years of female schooling versus countries that have a low change?"
   ]
  },
  {
   "cell_type": "markdown",
   "id": "53492572",
   "metadata": {
    "deletable": false,
    "editable": false,
    "tags": []
   },
   "source": [
    "## 2. Data: Loading and Cleaning\n",
    "\n",
    "Be sure to upload your csv files to the project on our server, and to clean your data if there are any missing values or other problems.  We have included the table cleaning code from Lab 5.  Be sure to refer to that lab both for a refresher on these tasks."
   ]
  },
  {
   "cell_type": "code",
   "execution_count": 150,
   "id": "7debf48f-6094-4856-9b35-2ed81216966b",
   "metadata": {},
   "outputs": [],
   "source": [
    "df = Table().read_table('Human Development Index .csv')"
   ]
  },
  {
   "cell_type": "markdown",
   "id": "11fa350f-4e38-44af-84eb-b77b9baf0041",
   "metadata": {},
   "source": [
    "For Question 1, we will only be using the following columns that are being cleaned in the cell below. "
   ]
  },
  {
   "cell_type": "code",
   "execution_count": 151,
   "id": "e5cabcd4-0fbf-4feb-940b-2eee02356e5c",
   "metadata": {},
   "outputs": [
    {
     "name": "stdout",
     "output_type": "stream",
     "text": [
      "Removed 0 bad row(s) for column Country\n",
      "Removed 4 bad row(s) for column Human Development Index (2021)\n",
      "Removed 21 bad row(s) for column Gender Inequality Index (2021)\n",
      "Removed 0 bad row(s) for column Mean Years of Schooling, female (2021)\n"
     ]
    }
   ],
   "source": [
    "df = valid_rows_for_column(df, 'Country', str)\n",
    "df = valid_rows_for_column(df, 'Human Development Index (2021)', float)\n",
    "df = valid_rows_for_column(df, 'Gender Inequality Index (2021)', float)\n",
    "df = valid_rows_for_column(df, 'Mean Years of Schooling, female (2021)', float)"
   ]
  },
  {
   "cell_type": "markdown",
   "id": "a87fc7dc",
   "metadata": {
    "deletable": false,
    "editable": false
   },
   "source": [
    "## 3. Descriptive statistics\n"
   ]
  },
  {
   "cell_type": "code",
   "execution_count": 152,
   "id": "82b4693b-b7f8-46dc-a05d-2cef835646d1",
   "metadata": {},
   "outputs": [
    {
     "name": "stdout",
     "output_type": "stream",
     "text": [
      "170\n",
      "9.4662689685\n",
      "0.363\n"
     ]
    }
   ],
   "source": [
    "print(df.num_rows)\n",
    "print(np.median(df.column('Mean Years of Schooling, female (2021)')))\n",
    "print(np.median(df.column('Gender Inequality Index (2021)')))"
   ]
  },
  {
   "cell_type": "markdown",
   "id": "9f84685a-0cc8-431a-9e69-9efaaf1e9699",
   "metadata": {},
   "source": [
    "The number of rows indicates the number of countries in the data set. Since it is 170, that means that this data set truly does not contain all the countries in the world, since there are 195 countries in total in the world. \n",
    "The median for the mean years of schooling is important so that we get a good sense of what the schooling looks like for women around the world, without the outliers significantly influencing this number. Likewise, the median of the gender inequality index allows us to visualize the general level of inequalities amongst all countries. Addtionally, knowing the median will give us a good idea of what a very low or high value in these categories would look like, so we are wary of outliers in the plot. "
   ]
  },
  {
   "cell_type": "markdown",
   "id": "62dd49d2",
   "metadata": {
    "deletable": false,
    "editable": false
   },
   "source": [
    "## 4. Data wrangling\n"
   ]
  },
  {
   "cell_type": "markdown",
   "id": "9d40e709-2b70-4af3-b9dd-b96a3842b659",
   "metadata": {},
   "source": [
    "Question 1: we will use the table methid \".select()\" to select the two columns we need for this question, so that we can smoothly calculate and plot the scatter plot to find the correlation coefficent. "
   ]
  },
  {
   "cell_type": "code",
   "execution_count": 153,
   "id": "247985b4-3d83-493c-b3ac-dbe1e1071fee",
   "metadata": {},
   "outputs": [
    {
     "name": "stdout",
     "output_type": "stream",
     "text": [
      "Removed 0 bad row(s) for column Human Development Index (2021)\n",
      "Removed 0 bad row(s) for column Gender Inequality Index (2021)\n"
     ]
    }
   ],
   "source": [
    "Q1_dataset = df.select('Human Development Index (2021)', 'Gender Inequality Index (2021)')\n",
    "Q1_dataset = valid_rows_for_column(Q1_dataset, 'Human Development Index (2021)', float)\n",
    "Q1_dataset = valid_rows_for_column(Q1_dataset, 'Gender Inequality Index (2021)', float)"
   ]
  },
  {
   "cell_type": "markdown",
   "id": "7ffb4386-fac6-46f9-9efc-6f6532b456d0",
   "metadata": {},
   "source": [
    "Question 2: Becaue we are focusing on the changes in the mean schooling for females and human development index from 1990 to 2021, we have to calculate the change from these years for each country. With these calculated changes, we can utilize the \".with_columns\" method to add these changes are columns to our data. These new columns would be \"change in means years of schooling for females\" and \"change in human development index.\" We are finding their absolute value because we are only concerned with the changem regardless of if this change was an increase or decrease. We can use the \".select\" method to only have these newly generated columns as our new dataset.\n",
    "We also have to do some data cleaning after creating these new columns using the valid_rows_for_column() function given to us with the library, to assure that we do not have any NAN values in the table."
   ]
  },
  {
   "cell_type": "code",
   "execution_count": 154,
   "id": "5fc6ed2a-d16a-4097-80bd-45ff049bc56a",
   "metadata": {},
   "outputs": [
    {
     "name": "stdout",
     "output_type": "stream",
     "text": [
      "Removed 23 bad row(s) for column change in schooling for females\n",
      "Removed 8 bad row(s) for column change in human development index\n"
     ]
    }
   ],
   "source": [
    "#column with change in schooling for females\n",
    "Q2_dataset = df.with_columns('change in schooling for females',abs(df.column('Mean Years of Schooling, female (2021)')-df.column('Mean Years of Schooling, female (1990)') ))\n",
    "\n",
    "#column with change in human development index\n",
    "Q2_dataset = Q2_dataset.with_columns('change in human development index',abs(df.column('Human Development Index (2021)')-df.column('Human Development Index (1990)') ))\n",
    "Q2_dataset = valid_rows_for_column(Q2_dataset, 'change in schooling for females', float)\n",
    "Q2_dataset = valid_rows_for_column(Q2_dataset, 'change in human development index', float)\n",
    "Q2_dataset = Q2_dataset.select('Country','change in schooling for females', 'change in human development index')\n",
    "\n",
    "#divide countries in 2 groups : little v large, pick # below/above median, \n",
    "#ex: hypoth; countries w/ large changes in schooling for females have larger changes in human dev index, null: changes don't/due to randomness\n",
    "#test: was there a big change, permuatation test\n",
    "#scatter plot for changes in 2, another column: \n",
    "    # * column for change in schooling from 1990 to 2021.\n",
    "    # * column for change in Human Devlop inex from 1990 to 2021.\n",
    "    # * column for whether change in schooling from 1990 to 2021 is > median --> mix up true false column and see what avg human development index change is for 2 groups,and create historgram\n"
   ]
  },
  {
   "cell_type": "markdown",
   "id": "db2a4f24-9091-4ed3-815b-d5287b166c6f",
   "metadata": {},
   "source": [
    "Question 2 Data Wrangling Cont. \n",
    "Now we must create another column containing \"True False\" values (for our method of data permutation). We will use the median of the change in schooling for females column that we created above to be an indicator of which country belongs inthe true/false category. Countries that have a change in the mean years of schooling for females equal to or above the median will be categoried as true, whereas the rest will be categorized as false. This new column is called 'tfcol' (true/faslsecolumn). To construct it, we will use the apply method, so that these true/false values can easily be assigned to each row."
   ]
  },
  {
   "cell_type": "code",
   "execution_count": 155,
   "id": "24b65cba-303e-4247-a21a-6d6c60e24c64",
   "metadata": {},
   "outputs": [
    {
     "name": "stdout",
     "output_type": "stream",
     "text": [
      "Removed 0 bad row(s) for column tfcol\n"
     ]
    },
    {
     "data": {
      "text/html": [
       "<table border=\"1\" class=\"dataframe\">\n",
       "    <thead>\n",
       "        <tr>\n",
       "            <th>Country</th> <th>change in schooling for females</th> <th>change in human development index</th> <th>tfcol</th>\n",
       "        </tr>\n",
       "    </thead>\n",
       "    <tbody>\n",
       "        <tr>\n",
       "            <td>Afghanistan         </td> <td>1.96858                        </td> <td>0.205                            </td> <td>False</td>\n",
       "        </tr>\n",
       "        <tr>\n",
       "            <td>Albania             </td> <td>4.99162                        </td> <td>0.149                            </td> <td>True </td>\n",
       "        </tr>\n",
       "        <tr>\n",
       "            <td>United Arab Emirates</td> <td>6.62702                        </td> <td>0.183                            </td> <td>True </td>\n",
       "        </tr>\n",
       "        <tr>\n",
       "            <td>Argentina           </td> <td>3.34851                        </td> <td>0.119                            </td> <td>True </td>\n",
       "        </tr>\n",
       "        <tr>\n",
       "            <td>Armenia             </td> <td>1.70361                        </td> <td>0.103                            </td> <td>False</td>\n",
       "        </tr>\n",
       "        <tr>\n",
       "            <td>Australia           </td> <td>1.82685                        </td> <td>0.086                            </td> <td>False</td>\n",
       "        </tr>\n",
       "        <tr>\n",
       "            <td>Austria             </td> <td>2.34279                        </td> <td>0.091                            </td> <td>False</td>\n",
       "        </tr>\n",
       "        <tr>\n",
       "            <td>Burundi             </td> <td>1.66952                        </td> <td>0.136                            </td> <td>False</td>\n",
       "        </tr>\n",
       "        <tr>\n",
       "            <td>Belgium             </td> <td>3.31124                        </td> <td>0.121                            </td> <td>False</td>\n",
       "        </tr>\n",
       "        <tr>\n",
       "            <td>Benin               </td> <td>2.5464                         </td> <td>0.166                            </td> <td>False</td>\n",
       "        </tr>\n",
       "    </tbody>\n",
       "</table>\n",
       "<p>... (129 rows omitted)</p>"
      ],
      "text/plain": [
       "Country              | change in schooling for females | change in human development index | tfcol\n",
       "Afghanistan          | 1.96858                         | 0.205                             | False\n",
       "Albania              | 4.99162                         | 0.149                             | True\n",
       "United Arab Emirates | 6.62702                         | 0.183                             | True\n",
       "Argentina            | 3.34851                         | 0.119                             | True\n",
       "Armenia              | 1.70361                         | 0.103                             | False\n",
       "Australia            | 1.82685                         | 0.086                             | False\n",
       "Austria              | 2.34279                         | 0.091                             | False\n",
       "Burundi              | 1.66952                         | 0.136                             | False\n",
       "Belgium              | 3.31124                         | 0.121                             | False\n",
       "Benin                | 2.5464                          | 0.166                             | False\n",
       "... (129 rows omitted)"
      ]
     },
     "execution_count": 155,
     "metadata": {},
     "output_type": "execute_result"
    }
   ],
   "source": [
    "def tfcol(value):\n",
    "    if abs(value) >= np.median(Q2_dataset.column('change in schooling for females')):\n",
    "        return True \n",
    "    else:\n",
    "        return False\n",
    "Q2_dataset = Q2_dataset.with_column('tfcol', Q2_dataset.apply(tfcol,'change in schooling for females' ))\n",
    "Q2_dataset = valid_rows_for_column(Q2_dataset, 'tfcol', bool)\n",
    "\n",
    "# new\n",
    "#divide countries in 2 groups : little v large, pick # below/above median, \n",
    "#ex: hypoth; countries w/ large changes in schooling for females have larger changes in human dev index, null: changes don't/due to randomness\n",
    "#test: was there a big change, permuatation test\n",
    "#scatter plot for changes in 2, another column: \n",
    "    # * column for change in schooling from 1990 to 2021.\n",
    "    # * column for change in Human Devlop inex from 1990 to 2021.\n",
    "    # * column for whether change in schooling from 1990 to 2021 is > median --> mix up true false column and see what avg human development index change is for 2 groups,and create historgram\n",
    "Q2_dataset"
   ]
  },
  {
   "cell_type": "markdown",
   "id": "2495e35d-a502-4e52-83d7-734068502aec",
   "metadata": {},
   "source": [
    "Question 1: Utilizing the library given in class, we will find the a value (the slope) and the b-value(the y-intecept) of the linear regression line of best fit for the scatter olot between the human development index 2021 and the gender inequality index 2021. "
   ]
  },
  {
   "cell_type": "markdown",
   "id": "93d8d295",
   "metadata": {
    "deletable": false,
    "editable": false,
    "tags": []
   },
   "source": [
    "## 5. Visualizations\n"
   ]
  },
  {
   "cell_type": "code",
   "execution_count": 156,
   "id": "d1460c4e-b34a-4285-93b6-187c6d62e090",
   "metadata": {},
   "outputs": [
    {
     "data": {
      "image/png": "[encoded data removed]",
      "text/plain": [
       "<Figure size 360x360 with 1 Axes>"
      ]
     },
     "metadata": {},
     "output_type": "display_data"
    }
   ],
   "source": [
    "Q1_dataset.scatter('Human Development Index (2021)')"
   ]
  },
  {
   "cell_type": "markdown",
   "id": "ebbca946-5cbc-4a86-9fd7-18522746c9a3",
   "metadata": {},
   "source": [
    "We decided to make a visualization for the scatterplot between HDI (2021) and GII(2021), as it would give us a good understsnding of what the correlation coefficent may be and what the line of best fit may look like. Evidently, we see that there is a general negative association from this plot, so as the human development index for 2021 for ever country increases, the GII decreases. This means that we can estimate that our correlation coefficent will defintely be negative, and most likely not be 0, and smaller than -0.5."
   ]
  },
  {
   "cell_type": "code",
   "execution_count": 157,
   "id": "ef1cc4a0-e190-4b6d-b515-181cd0e4df2d",
   "metadata": {},
   "outputs": [
    {
     "data": {
      "image/png": "[encoded data removed]",
      "text/plain": [
       "<Figure size 432x288 with 1 Axes>"
      ]
     },
     "metadata": {},
     "output_type": "display_data"
    }
   ],
   "source": [
    "Q2_dataset.select('change in schooling for females').hist('change in schooling for females')"
   ]
  },
  {
   "cell_type": "markdown",
   "id": "c5f8192e-16e1-41d4-93e6-0113731742a1",
   "metadata": {},
   "source": [
    "For our second question, we decided to do a histogram that plotted the changes in mean years of schooling for females from 1990 to 2021. We decided to plot this as a way of assessing if using the median as an indicator for the 'true false column' for the permutation test was more optimal than using another statistic, such as the mean. If there was a lot of outliers, but few values in the middle of those outliers, then the median would perhaps not be the best statstic to use in terms of categorizing the 'middle numbers' (non-outliers), and we would instead use the mean. However, as shown from the histogram, using the median will not pose as an obstacle or a potentail misrepresentation of data, as there is a large amount of outliers, and the changes are spread out. Becuase the bars are not particularly skewed to one side, we then know that the change in years of schooling did not drastically occur in certain countries but remain the same for others, and that this change was varied in some ways. "
   ]
  },
  {
   "cell_type": "markdown",
   "id": "ef4714fe",
   "metadata": {
    "deletable": false,
    "editable": false,
    "tags": []
   },
   "source": [
    "## 6. Statistical Inference\n",
    "\n",
    "Categories: \n",
    "- Hypothesis test\n",
    "- Estimation (e.g. confidence intervals via bootstrapping) \n",
    "- Prediction (e.g. correlation or a linear regression line fit from a scatter plot) \n"
   ]
  },
  {
   "cell_type": "markdown",
   "id": "d8a85ccd-2f99-451d-9a36-f4519969eef8",
   "metadata": {},
   "source": [
    "Q1: Utilizing the library given in class, we calculated the linear regression of the Human Development Index (2021) and the GII (2021). The linear regression gives us two values, a, the slope, and b, the y-intercept of the regression line. Below, it is plotted on the scatter plot, along with the residual plot."
   ]
  },
  {
   "cell_type": "code",
   "execution_count": 158,
   "id": "66a845af-742f-4265-bba3-e833bf544229",
   "metadata": {},
   "outputs": [
    {
     "name": "stdout",
     "output_type": "stream",
     "text": [
      "a =  -1.177720887679118 ; b =  1.1952936673631298\n"
     ]
    }
   ],
   "source": [
    "a = linear_regression(Q1_dataset, 'Human Development Index (2021)', 'Gender Inequality Index (2021)').item(0)\n",
    "b = linear_regression(Q1_dataset, 'Human Development Index (2021)', 'Gender Inequality Index (2021)').item(1)\n",
    "print('a = ', a, '; b = ', b)"
   ]
  },
  {
   "cell_type": "markdown",
   "id": "6fba8027-402b-4587-ab3b-ae81efc5e05f",
   "metadata": {},
   "source": [
    "From the residual plot, we can see that there is no relationship between the HDI(2021) (the x-values) and the y (the residual), showing that we do not need to be concerned about nonlinearity and heteroscadisticality, meaning that it is suitable to use a regression line specifcially. As shown from the calculated pearson_correlation, which is very close to -1, there is a strong negative relationship, so as the HDI (2021) increases, the GII (2021) decreases. This relationship is of course, only through stastistics, and not any scientific facts regarding causuation. There is merely a clear negative association within the data. Additionally, as shown from the calculated R2 scaore, which is above 0.5, and close to 1, shows that the data fit the regression model strongly."
   ]
  },
  {
   "cell_type": "markdown",
   "id": "9a4cd6d8-0702-4d8c-98d1-8da77b76cb9d",
   "metadata": {},
   "source": [
    "Write text here."
   ]
  },
  {
   "cell_type": "code",
   "execution_count": 159,
   "id": "ba5a51d2-a04d-49e9-9f2d-bb82bb6e2f1e",
   "metadata": {},
   "outputs": [
    {
     "data": {
      "image/png": "[encoded data removed]",
      "text/plain": [
       "<Figure size 864x432 with 2 Axes>"
      ]
     },
     "metadata": {},
     "output_type": "display_data"
    }
   ],
   "source": [
    "plot_regression_line_and_residuals(Q1_dataset,'Human Development Index (2021)', 'Gender Inequality Index (2021)',a , b)"
   ]
  },
  {
   "cell_type": "code",
   "execution_count": 160,
   "id": "6f3d201b-c444-447a-bf1e-f4b03d9d0e86",
   "metadata": {},
   "outputs": [
    {
     "data": {
      "text/plain": [
       "-0.9133970778944027"
      ]
     },
     "execution_count": 160,
     "metadata": {},
     "output_type": "execute_result"
    }
   ],
   "source": [
    "r = pearson_correlation(Q1_dataset,'Human Development Index (2021)', 'Gender Inequality Index (2021)')\n",
    "r"
   ]
  },
  {
   "cell_type": "code",
   "execution_count": 161,
   "id": "5ac2550f-d8b5-4202-9aef-dd1ea8aa890b",
   "metadata": {},
   "outputs": [
    {
     "data": {
      "text/plain": [
       "0.8342942219060351"
      ]
     },
     "execution_count": 161,
     "metadata": {},
     "output_type": "execute_result"
    }
   ],
   "source": [
    "r2 = r2_score(Q1_dataset, 'Human Development Index (2021)', 'Gender Inequality Index (2021)',a , b)\n",
    "r2"
   ]
  },
  {
   "cell_type": "markdown",
   "id": "874c5854-f09c-465d-b469-3ea4028f3ebe",
   "metadata": {},
   "source": [
    "Q2: we will do pemutation tests to asses whether changes in the mean years of schooling for females has a statistical association with the change in the HDI. \n",
    "For this we will have null and alternate hypothesis: \n",
    "\n",
    "Alternate hypothesis: The average change in human development for countries with higher changes in means schooling years for females is different compared to countries with lower changes in mean schooling for females.\n",
    "\n",
    "Null hypothesis: There is no difference. The observed statistic occurred by chance.\n",
    "\n",
    "First, we start by making a new table containing these means in changes of HDI, for the True and False groups, where group A is the True group and Group B is the False group. This way, we can calculste the observed statistic."
   ]
  },
  {
   "cell_type": "code",
   "execution_count": 162,
   "id": "c016d1ff-c223-499a-ba10-eb887baaff8a",
   "metadata": {},
   "outputs": [
    {
     "data": {
      "text/plain": [
       "0.03156231884057975"
      ]
     },
     "execution_count": 162,
     "metadata": {},
     "output_type": "execute_result"
    }
   ],
   "source": [
    "means_table = Q2_dataset.group('tfcol', np.mean)\n",
    "means = means_table.column('change in human development index mean')\n",
    "observed_difference = means.item(1) - means.item(0)\n",
    "observed_difference"
   ]
  },
  {
   "cell_type": "markdown",
   "id": "ee690fca-7be4-4bc1-833b-cccae9d9f7d1",
   "metadata": {},
   "source": [
    "The observed staistic demonstrates that there is a slight difference in the means of the changes in HDI of countries with a high change in years of female schooling and countries with a low change in years of female schooling."
   ]
  },
  {
   "cell_type": "markdown",
   "id": "70202268-0ffc-4eb3-aadd-0240e7553b3a",
   "metadata": {},
   "source": [
    "Now we must create a function that offers the statsitic we look to simulate, which in this case is the difference in the means of group A and group B."
   ]
  },
  {
   "cell_type": "code",
   "execution_count": 163,
   "id": "8d931c70-50bb-4bbd-b31d-406a25819af5",
   "metadata": {},
   "outputs": [],
   "source": [
    "def abs_difference_of_means(table, group_label, value_label):\n",
    "    \"\"\"\n",
    "    Inputs: \n",
    "        - table: name of table\n",
    "        - group_label: column label for variable you want to group \n",
    "        - value_label: column label for the variable you want to take means of \n",
    "    \n",
    "    Returns: Difference of mean HDI change of the two groups\n",
    "    \"\"\"\n",
    "    # table containing group means\n",
    "    means_table = table.group(group_label, np.mean)\n",
    "    \n",
    "    # array of group means\n",
    "    means = means_table.column(value_label + ' mean')\n",
    "    # print(means.item(1),means.item(0) )\n",
    "    return abs(means.item(1) - means.item(0))\n"
   ]
  },
  {
   "cell_type": "markdown",
   "id": "0379c4ed-e7a9-42f7-a2c3-d2242bc3ae4f",
   "metadata": {},
   "source": [
    "The function below is important to create a shuffled table of countries that contain high and low rates of change in means years of female schooling."
   ]
  },
  {
   "cell_type": "code",
   "execution_count": 164,
   "id": "a4f5d9ab-8cd5-4ded-865c-cebd3fcd07ef",
   "metadata": {},
   "outputs": [],
   "source": [
    "def permutation_sample(table, group_column_name):\n",
    "    \"\"\"\n",
    "    Returns: The table with a new \"Shuffled Label\" column containing\n",
    "    the shuffled values of the group column.\n",
    "    \"\"\"\n",
    "    \n",
    "    # array of shuffled labels\n",
    "    shuffled_labels = table.sample(with_replacement=False).column(group_column_name)\n",
    "    \n",
    "    # table of numerical variable and shuffled labels\n",
    "    shuffled_table = table.with_column('Shuffled Label', shuffled_labels)\n",
    "    \n",
    "    return shuffled_table"
   ]
  },
  {
   "cell_type": "markdown",
   "id": "3d4bdd16-a173-4f1d-aa40-d66b6b226119",
   "metadata": {},
   "source": [
    "The shuffuled table fucntion will then be used in the function below, where using the abs_difference_of_means function, the difference of means for all the different shuffled data sets generated will be kept in the array \"human_dev_simulated_statistics.\" Because we are only concerned with whether or not these two groups contain differences in changes in HDI, we will be taking the absolute value."
   ]
  },
  {
   "cell_type": "code",
   "execution_count": 165,
   "id": "859c9b29-6b50-4cb1-825c-c2500e5b2963",
   "metadata": {},
   "outputs": [],
   "source": [
    "def simulate_human_dev(num_trials):\n",
    "    \n",
    "    human_dev_simulated_statistics = make_array()\n",
    "    \n",
    "    for i in np.arange(0, num_trials): \n",
    "\n",
    "        one_sample = permutation_sample(Q2_dataset, \"tfcol\")\n",
    "        statistic_one_sample = abs(abs_difference_of_means(one_sample, \n",
    "                                                           \"Shuffled Label\", \n",
    "                                                           \"change in human development index\"))\n",
    "        human_dev_simulated_statistics = np.append(human_dev_simulated_statistics, \n",
    "                                                      statistic_one_sample)\n",
    "        \n",
    "    return human_dev_simulated_statistics\n",
    "\n"
   ]
  },
  {
   "cell_type": "code",
   "execution_count": null,
   "id": "b22c0e00-8890-46f2-abc6-e9b8a3274840",
   "metadata": {},
   "outputs": [],
   "source": [
    "simulate_human_dev_means = simulate_human_dev(1000)\n",
    "results = Table().with_column('abs(Group B Mean - Group A Mean)', simulate_human_dev_means)\n",
    "results.hist()\n",
    "plots.scatter(observed_difference, 0, color='red', s=60, zorder=3, clip_on=False);"
   ]
  },
  {
   "cell_type": "markdown",
   "id": "3e270432-dd19-40cf-afd2-9d9bdcabaf0d",
   "metadata": {},
   "source": [
    "Because the cutoff for the p-value is 0.05, which means that if the p-value is smaller than 0.05 percent, we can conclude our alternative hypothesis, then we reject the null. Therefore, only through these statistics, the average change in human development for countries with higher changes in means schooling years for females is different compared to countries with lower changes in mean schooling for females fromthe years 1990 to 2021. This means that it is not likely that our observed stastic occurred by chance."
   ]
  },
  {
   "cell_type": "code",
   "execution_count": null,
   "id": "bd6edc39-57b7-4637-84a0-6c495cf570cd",
   "metadata": {},
   "outputs": [],
   "source": [
    "#calculate p-value\n",
    "sum(simulate_human_dev_means >= observed_difference) / len(simulate_human_dev_means)"
   ]
  },
  {
   "cell_type": "markdown",
   "id": "6b837696",
   "metadata": {
    "deletable": false,
    "editable": false
   },
   "source": [
    "##  Additional work"
   ]
  },
  {
   "cell_type": "markdown",
   "id": "85fe8ee7-e4a1-4e90-94a3-b7775e2f072f",
   "metadata": {},
   "source": [
    "What if we wanted to explore whether the changes in human development was higher for countries with higher changes in mean years of schooling for females than counries with lower changes in schooling? We can do that through taking out the absolute value from the functions. Then we can set up the following alternate and null hypothesis: \n",
    "\n",
    "Alternate hypotehsis: For countries that have a higher changes in the mean years of schooling for females, there is also a higher change in the HDI from 1990 to 2021, compared to countries with low changes in the mean years of schooling for females.\n",
    "\n",
    "Null Hypothesis: There is no difference and the observed stastistic occurred by chance."
   ]
  },
  {
   "cell_type": "code",
   "execution_count": null,
   "id": "35e12bc3-dc87-4d78-956e-1c7a9bcee2bc",
   "metadata": {},
   "outputs": [],
   "source": [
    "def difference_of_means(table, group_label, value_label):\n",
    "    \"\"\"\n",
    "    Inputs: \n",
    "        - table: name of table\n",
    "        - group_label: column label for variable you want to group \n",
    "        - value_label: column label for the variable you want to take means of \n",
    "    \n",
    "    Returns: Difference of mean birth weights of the two groups\n",
    "    \"\"\"\n",
    "    # table containing group means\n",
    "    means_table = table.group(group_label, np.mean)\n",
    "    \n",
    "    # array of group means\n",
    "    means = means_table.column(value_label + ' mean')\n",
    "    # print(means.item(1),means.item(0) )\n",
    "    return means.item(1) - means.item(0)\n",
    "\n",
    "def simulate_human_dev_no_abs(num_trials):\n",
    "    \n",
    "    human_dev_simulated_statistics = make_array()\n",
    "    \n",
    "    for i in np.arange(0, num_trials): \n",
    "\n",
    "        one_sample = permutation_sample(Q2_dataset, \"tfcol\")\n",
    "        statistic_one_sample = difference_of_means(one_sample, \n",
    "                                                           \"Shuffled Label\", \n",
    "                                                           \"change in human development index\")\n",
    "        human_dev_simulated_statistics = np.append(human_dev_simulated_statistics, \n",
    "                                                      statistic_one_sample)\n",
    "        \n",
    "    return human_dev_simulated_statistics\n",
    "\n",
    "\n",
    "simulate_human_dev_means_noabs = simulate_human_dev_no_abs(1000)\n",
    "results_noabs = Table().with_column('Group B Mean - Group A Mean', simulate_human_dev_means_noabs)\n",
    "results_noabs.hist()\n",
    "plots.scatter(observed_difference, 0, color='red', s=60, zorder=3, clip_on=False);\n",
    "#there is an associaion, higher changes in human development index "
   ]
  },
  {
   "cell_type": "code",
   "execution_count": null,
   "id": "6d271919-8aa7-4aa6-aff5-c04e0f26fd92",
   "metadata": {},
   "outputs": [],
   "source": [
    "sum(simulate_human_dev_means_noabs >= observed_difference) / len(simulate_human_dev_means_noabs)"
   ]
  },
  {
   "cell_type": "markdown",
   "id": "f89d299f-4f01-4622-ad8d-56fc5b5b8d1d",
   "metadata": {},
   "source": [
    "Since the observable stastistic lies to the right, and the p-value is still at 0, the alternative hypothesis si still approved. This means that for countries that have a higher changes in the mean years of schooling for females, there is also a higher change in the HDI from 1990 to 2021, compared to countries with low changes in the mean years of schooling for females."
   ]
  },
  {
   "cell_type": "markdown",
   "id": "5e865baf-0fde-48a1-9be7-93fa2a63b278",
   "metadata": {},
   "source": [
    "Using previous lectures, we created a selectable option for plotting the GII from 1990 to 2021 and the HDI from 1990 to 2021 for a particular country."
   ]
  },
  {
   "cell_type": "code",
   "execution_count": null,
   "id": "9833de40-f632-43ea-9518-35d2afc36813",
   "metadata": {},
   "outputs": [],
   "source": [
    "\n",
    "from ipywidgets import interact, interactive, fixed, interact_manual\n",
    "import ipywidgets as widgets\n",
    "\n",
    "def dataset(country): \n",
    "        df2 = df.where('Country', are.equal_to(country))\n",
    "        counter = 5\n",
    "        counter2= 592\n",
    "        human_dev= make_array()\n",
    "        gender_inequality = make_array()\n",
    "        for i in np.arange(32):\n",
    "            human_dev = np.append(human_dev, df2[counter].item(0))\n",
    "            gender_inequality = np.append(gender_inequality, df2[counter2].item(0))\n",
    "            counter+=1\n",
    "            counter2+=1\n",
    "\n",
    "        df3 = Table().with_columns('human_dev', human_dev, 'gender',gender_inequality )\n",
    "        df3 = valid_rows_for_column(df3, 'human_dev', float)\n",
    "        df3 = valid_rows_for_column(df3, 'gender', float)\n",
    "\n",
    "        return df3\n",
    "\n",
    "def f(x):\n",
    "        a1 = linear_regression(dataset(x), 'human_dev', 'gender').item(0)\n",
    "        b1 = linear_regression(dataset(x), 'human_dev', 'gender').item(1)\n",
    "        return plot_scatter_with_line(dataset(x), 'human_dev', 'gender',a1 , b1)\n",
    "\n",
    "    \n",
    "_ = interact(f, x=df.column('Country'))\n",
    "\n"
   ]
  },
  {
   "cell_type": "markdown",
   "id": "084b7d23",
   "metadata": {
    "deletable": false,
    "editable": false
   },
   "source": [
    "## 7. Ethics\n"
   ]
  },
  {
   "cell_type": "markdown",
   "id": "7a8da1ac-5f14-4c11-a888-20a0295d42bc",
   "metadata": {},
   "source": [
    "The dataset we analyzed was found on a website called Kaggle. This website contains numerous public datasets and public notebooks that people can use for data analysis work for free. Due to the way the data was produced by researchers and the way it was displayed online, information regarding consent and anonymity were not available to the public. This may pose an ethical issue, because users are not provided with specific information as to how the data was collected. In addition, because the data has been aggregated by country level, this type of data collection can reinforce stereotypes about certain developing countries. This also raises questions regarding ethicality because measuring properties of people or societal groups could potentially inflate or create stereotypes about said people or societal groups, but conducting this type of research can also be considered necessary to identify and quantify drastic disparities  regarding important markers of human development such as education and gender gaps around the world. "
   ]
  },
  {
   "cell_type": "markdown",
   "id": "efa19f27",
   "metadata": {
    "deletable": false,
    "editable": false,
    "tags": []
   },
   "source": [
    "## 8. Conclusions\n",
    "\n"
   ]
  },
  {
   "cell_type": "markdown",
   "id": "1f8d364f-5041-4ab1-bc09-eee4925aed25",
   "metadata": {},
   "source": [
    "Q1: What is the correlation coefficient between the human development index of every country in 2021 and the gender inequality index of every country in 2021? \n",
    "\n",
    "As shown from the linear regression line and the calculated pearson coefficent, which is about -0.91, there is a statstical association between the human development index of every country in 2021 and the gender inequality index of every country in 2021. Although there can be no conclusions made regarding causation, since this is merely based off statistics, this negative relationship between GII and HDI, suggests that perhaps GII is an important factor in determining a country's HDI. This possibility means that there should be more reserach regarding the intersection between gender equity in countries and the human development index. "
   ]
  },
  {
   "cell_type": "markdown",
   "id": "00a0ecaa-0e4b-4fae-ae82-34ef3ed48555",
   "metadata": {},
   "source": [
    "Q2:Does the change in mean years of female schooling across the years 1990 and 2021 show any variances in the change in human development index from 1990 and 2021 for countries that have a large change in means years of female schooling versus countries that have a low change?\n",
    "\n",
    "Through permuatation testing, we split the countries with high and low changes in the mean years of schooling for females into two true/false categories. After shuffling these labels, and then subtracting the mean of the change in the HDI for each category, and plotting the absolute values of these simulated differences on a histogram, it was clear that our p-value was very close to 0, and less than 0.05. This means that our intial alternative hypothesis of there being differences between the HDI changes of these two groups was approved. We then decided to look at what exactly those differences were, and so, due to our observable statistic, we made our alternative hypothesis that countries with high changes in mean years of schooling for females have higher changes in HDI than those with low changes in mean years of schooling. Through making the same plots, except not making the data points positive through absolute value, we found that, our altnerative hypothesis was once again approved. Although, we cannot state that there is a causation of an sort or assert any scientific premises or conclusions, this apparent difference shows that mean years of schooling for females may perhaps be a factor in HDI changes. \n"
   ]
  },
  {
   "cell_type": "markdown",
   "id": "b3d808d6-6c0c-46f7-a54a-1d7ab30f99b3",
   "metadata": {},
   "source": [
    "Our stastistical analysis shows that providing equity to all genders is essential, or at least statiscally shown to be, for HDI research. There are other factors to consider regarding gender and HDI, such as more specific indicators of gender inequity, such as average age of marriage for females and average salaries. "
   ]
  },
  {
   "cell_type": "markdown",
   "id": "fc1d8be0",
   "metadata": {
    "deletable": false,
    "editable": false
   },
   "source": [
    "# You're Done!"
   ]
  },
  {
   "cell_type": "markdown",
   "id": "5a3ef240",
   "metadata": {
    "deletable": false,
    "editable": false
   },
   "source": [
    "**Important submission information:** Follow these steps to submit your work:\n",
    "* Choose **Save Notebook** from the **File** menu.\n",
    "* **Run the final cell** and click the link below to download the zip file. \n",
    "\n",
    "Once you have downloaded that file, go to [Gradescope](https://www.gradescope.com/) and submit the zip file to the corresponding assignment. The name of this assignment is \"Final Project\". **Be sure your work is saved before running the last cell!**"
   ]
  },
  {
   "cell_type": "code",
   "execution_count": null,
   "id": "b93467da",
   "metadata": {
    "tags": []
   },
   "outputs": [],
   "source": [
    "# Save your notebook first, then run this cell to export your submission.\n",
    "import glob \n",
    "grader.export(pdf=False,files=glob.glob(\"*.csv\") + glob.glob(\"*.py\"))"
   ]
  }
 ],
 "metadata": {
  "kernelspec": {
   "display_name": "Python 3 (ipykernel)",
   "language": "python",
   "name": "python3"
  },
  "language_info": {
   "codemirror_mode": {
    "name": "ipython",
    "version": 3
   },
   "file_extension": ".py",
   "mimetype": "text/x-python",
   "name": "python",
   "nbconvert_exporter": "python",
   "pygments_lexer": "ipython3",
   "version": "3.9.7"
  },
  "vscode": {
   "interpreter": {
    "hash": "e9a7af6fc709cc25e111b0d6e28f738a78907138b7e48b682edcf6dfb7dc8bee"
   }
  }
 },
 "nbformat": 4,
 "nbformat_minor": 5
}
